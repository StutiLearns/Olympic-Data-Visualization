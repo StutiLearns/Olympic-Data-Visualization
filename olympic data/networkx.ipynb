{
  "nbformat": 4,
  "nbformat_minor": 0,
  "metadata": {
    "colab": {
      "name": "networkx.ipynb",
      "provenance": [],
      "collapsed_sections": []
    },
    "kernelspec": {
      "name": "python3",
      "display_name": "Python 3"
    },
    "language_info": {
      "name": "python"
    }
  },
  "cells": [
    {
      "cell_type": "code",
      "source": [
        "from google.colab import drive\n",
        "drive.mount('/content/drive')\n",
        "import matplotlib.pyplot as plt\n",
        "import networkx as nx\n",
        "import pandas as pd\n"
      ],
      "metadata": {
        "colab": {
          "base_uri": "https://localhost:8080/"
        },
        "id": "-4RwGk-HhkgC",
        "outputId": "ad2ce684-0b6b-424d-fefc-62e8f1ca724f"
      },
      "execution_count": null,
      "outputs": [
        {
          "output_type": "stream",
          "name": "stdout",
          "text": [
            "Drive already mounted at /content/drive; to attempt to forcibly remount, call drive.mount(\"/content/drive\", force_remount=True).\n"
          ]
        }
      ]
    },
    {
      "cell_type": "code",
      "source": [
        "df=pd.read_csv('/content/drive/MyDrive/olympic_medals.csv')\n",
        "df.head()"
      ],
      "metadata": {
        "colab": {
          "base_uri": "https://localhost:8080/",
          "height": 337
        },
        "id": "BpTHJn22hqmA",
        "outputId": "faf4c56f-beaa-42e4-f6c4-f15577f36643"
      },
      "execution_count": null,
      "outputs": [
        {
          "output_type": "execute_result",
          "data": {
            "text/plain": [
              "  discipline_title   slug_game      event_title event_gender medal_type  \\\n",
              "0         Shooting  tokyo-2020  Trap Mixed Team        Mixed       GOLD   \n",
              "1         Shooting  tokyo-2020  Trap Mixed Team        Mixed       GOLD   \n",
              "2         Shooting  tokyo-2020  Trap Mixed Team        Mixed     SILVER   \n",
              "3         Shooting  tokyo-2020  Trap Mixed Team        Mixed     SILVER   \n",
              "4         Shooting  tokyo-2020  Trap Mixed Team        Mixed     BRONZE   \n",
              "\n",
              "  participant_type         participant_title  \\\n",
              "0         GameTeam                     Spain   \n",
              "1         GameTeam                     Spain   \n",
              "2         GameTeam                San Marino   \n",
              "3         GameTeam                San Marino   \n",
              "4         GameTeam  United States of America   \n",
              "\n",
              "                                         athlete_url    athlete_full_name  \\\n",
              "0     https://olympics.com/en/athletes/fatima-galvez        Fatima GALVEZ   \n",
              "1  https://olympics.com/en/athletes/alberto-ferna...    Alberto FERNANDEZ   \n",
              "2  https://olympics.com/en/athletes/alessandra-pe...   Alessandra PERILLI   \n",
              "3  https://olympics.com/en/athletes/gian-marco-berti     Gian Marco BERTI   \n",
              "4  https://olympics.com/en/athletes/madelynn-ann-...  Madelynn Ann BERNAU   \n",
              "\n",
              "               country_name country_code country_3_letter_code  \n",
              "0                     Spain           ES                   ESP  \n",
              "1                     Spain           ES                   ESP  \n",
              "2                San Marino           SM                   SMR  \n",
              "3                San Marino           SM                   SMR  \n",
              "4  United States of America           US                   USA  "
            ],
            "text/html": [
              "\n",
              "  <div id=\"df-3e84cda5-c66b-4ea1-a2b4-4c12fdf96e4b\">\n",
              "    <div class=\"colab-df-container\">\n",
              "      <div>\n",
              "<style scoped>\n",
              "    .dataframe tbody tr th:only-of-type {\n",
              "        vertical-align: middle;\n",
              "    }\n",
              "\n",
              "    .dataframe tbody tr th {\n",
              "        vertical-align: top;\n",
              "    }\n",
              "\n",
              "    .dataframe thead th {\n",
              "        text-align: right;\n",
              "    }\n",
              "</style>\n",
              "<table border=\"1\" class=\"dataframe\">\n",
              "  <thead>\n",
              "    <tr style=\"text-align: right;\">\n",
              "      <th></th>\n",
              "      <th>discipline_title</th>\n",
              "      <th>slug_game</th>\n",
              "      <th>event_title</th>\n",
              "      <th>event_gender</th>\n",
              "      <th>medal_type</th>\n",
              "      <th>participant_type</th>\n",
              "      <th>participant_title</th>\n",
              "      <th>athlete_url</th>\n",
              "      <th>athlete_full_name</th>\n",
              "      <th>country_name</th>\n",
              "      <th>country_code</th>\n",
              "      <th>country_3_letter_code</th>\n",
              "    </tr>\n",
              "  </thead>\n",
              "  <tbody>\n",
              "    <tr>\n",
              "      <th>0</th>\n",
              "      <td>Shooting</td>\n",
              "      <td>tokyo-2020</td>\n",
              "      <td>Trap Mixed Team</td>\n",
              "      <td>Mixed</td>\n",
              "      <td>GOLD</td>\n",
              "      <td>GameTeam</td>\n",
              "      <td>Spain</td>\n",
              "      <td>https://olympics.com/en/athletes/fatima-galvez</td>\n",
              "      <td>Fatima GALVEZ</td>\n",
              "      <td>Spain</td>\n",
              "      <td>ES</td>\n",
              "      <td>ESP</td>\n",
              "    </tr>\n",
              "    <tr>\n",
              "      <th>1</th>\n",
              "      <td>Shooting</td>\n",
              "      <td>tokyo-2020</td>\n",
              "      <td>Trap Mixed Team</td>\n",
              "      <td>Mixed</td>\n",
              "      <td>GOLD</td>\n",
              "      <td>GameTeam</td>\n",
              "      <td>Spain</td>\n",
              "      <td>https://olympics.com/en/athletes/alberto-ferna...</td>\n",
              "      <td>Alberto FERNANDEZ</td>\n",
              "      <td>Spain</td>\n",
              "      <td>ES</td>\n",
              "      <td>ESP</td>\n",
              "    </tr>\n",
              "    <tr>\n",
              "      <th>2</th>\n",
              "      <td>Shooting</td>\n",
              "      <td>tokyo-2020</td>\n",
              "      <td>Trap Mixed Team</td>\n",
              "      <td>Mixed</td>\n",
              "      <td>SILVER</td>\n",
              "      <td>GameTeam</td>\n",
              "      <td>San Marino</td>\n",
              "      <td>https://olympics.com/en/athletes/alessandra-pe...</td>\n",
              "      <td>Alessandra PERILLI</td>\n",
              "      <td>San Marino</td>\n",
              "      <td>SM</td>\n",
              "      <td>SMR</td>\n",
              "    </tr>\n",
              "    <tr>\n",
              "      <th>3</th>\n",
              "      <td>Shooting</td>\n",
              "      <td>tokyo-2020</td>\n",
              "      <td>Trap Mixed Team</td>\n",
              "      <td>Mixed</td>\n",
              "      <td>SILVER</td>\n",
              "      <td>GameTeam</td>\n",
              "      <td>San Marino</td>\n",
              "      <td>https://olympics.com/en/athletes/gian-marco-berti</td>\n",
              "      <td>Gian Marco BERTI</td>\n",
              "      <td>San Marino</td>\n",
              "      <td>SM</td>\n",
              "      <td>SMR</td>\n",
              "    </tr>\n",
              "    <tr>\n",
              "      <th>4</th>\n",
              "      <td>Shooting</td>\n",
              "      <td>tokyo-2020</td>\n",
              "      <td>Trap Mixed Team</td>\n",
              "      <td>Mixed</td>\n",
              "      <td>BRONZE</td>\n",
              "      <td>GameTeam</td>\n",
              "      <td>United States of America</td>\n",
              "      <td>https://olympics.com/en/athletes/madelynn-ann-...</td>\n",
              "      <td>Madelynn Ann BERNAU</td>\n",
              "      <td>United States of America</td>\n",
              "      <td>US</td>\n",
              "      <td>USA</td>\n",
              "    </tr>\n",
              "  </tbody>\n",
              "</table>\n",
              "</div>\n",
              "      <button class=\"colab-df-convert\" onclick=\"convertToInteractive('df-3e84cda5-c66b-4ea1-a2b4-4c12fdf96e4b')\"\n",
              "              title=\"Convert this dataframe to an interactive table.\"\n",
              "              style=\"display:none;\">\n",
              "        \n",
              "  <svg xmlns=\"http://www.w3.org/2000/svg\" height=\"24px\"viewBox=\"0 0 24 24\"\n",
              "       width=\"24px\">\n",
              "    <path d=\"M0 0h24v24H0V0z\" fill=\"none\"/>\n",
              "    <path d=\"M18.56 5.44l.94 2.06.94-2.06 2.06-.94-2.06-.94-.94-2.06-.94 2.06-2.06.94zm-11 1L8.5 8.5l.94-2.06 2.06-.94-2.06-.94L8.5 2.5l-.94 2.06-2.06.94zm10 10l.94 2.06.94-2.06 2.06-.94-2.06-.94-.94-2.06-.94 2.06-2.06.94z\"/><path d=\"M17.41 7.96l-1.37-1.37c-.4-.4-.92-.59-1.43-.59-.52 0-1.04.2-1.43.59L10.3 9.45l-7.72 7.72c-.78.78-.78 2.05 0 2.83L4 21.41c.39.39.9.59 1.41.59.51 0 1.02-.2 1.41-.59l7.78-7.78 2.81-2.81c.8-.78.8-2.07 0-2.86zM5.41 20L4 18.59l7.72-7.72 1.47 1.35L5.41 20z\"/>\n",
              "  </svg>\n",
              "      </button>\n",
              "      \n",
              "  <style>\n",
              "    .colab-df-container {\n",
              "      display:flex;\n",
              "      flex-wrap:wrap;\n",
              "      gap: 12px;\n",
              "    }\n",
              "\n",
              "    .colab-df-convert {\n",
              "      background-color: #E8F0FE;\n",
              "      border: none;\n",
              "      border-radius: 50%;\n",
              "      cursor: pointer;\n",
              "      display: none;\n",
              "      fill: #1967D2;\n",
              "      height: 32px;\n",
              "      padding: 0 0 0 0;\n",
              "      width: 32px;\n",
              "    }\n",
              "\n",
              "    .colab-df-convert:hover {\n",
              "      background-color: #E2EBFA;\n",
              "      box-shadow: 0px 1px 2px rgba(60, 64, 67, 0.3), 0px 1px 3px 1px rgba(60, 64, 67, 0.15);\n",
              "      fill: #174EA6;\n",
              "    }\n",
              "\n",
              "    [theme=dark] .colab-df-convert {\n",
              "      background-color: #3B4455;\n",
              "      fill: #D2E3FC;\n",
              "    }\n",
              "\n",
              "    [theme=dark] .colab-df-convert:hover {\n",
              "      background-color: #434B5C;\n",
              "      box-shadow: 0px 1px 3px 1px rgba(0, 0, 0, 0.15);\n",
              "      filter: drop-shadow(0px 1px 2px rgba(0, 0, 0, 0.3));\n",
              "      fill: #FFFFFF;\n",
              "    }\n",
              "  </style>\n",
              "\n",
              "      <script>\n",
              "        const buttonEl =\n",
              "          document.querySelector('#df-3e84cda5-c66b-4ea1-a2b4-4c12fdf96e4b button.colab-df-convert');\n",
              "        buttonEl.style.display =\n",
              "          google.colab.kernel.accessAllowed ? 'block' : 'none';\n",
              "\n",
              "        async function convertToInteractive(key) {\n",
              "          const element = document.querySelector('#df-3e84cda5-c66b-4ea1-a2b4-4c12fdf96e4b');\n",
              "          const dataTable =\n",
              "            await google.colab.kernel.invokeFunction('convertToInteractive',\n",
              "                                                     [key], {});\n",
              "          if (!dataTable) return;\n",
              "\n",
              "          const docLinkHtml = 'Like what you see? Visit the ' +\n",
              "            '<a target=\"_blank\" href=https://colab.research.google.com/notebooks/data_table.ipynb>data table notebook</a>'\n",
              "            + ' to learn more about interactive tables.';\n",
              "          element.innerHTML = '';\n",
              "          dataTable['output_type'] = 'display_data';\n",
              "          await google.colab.output.renderOutput(dataTable, element);\n",
              "          const docLink = document.createElement('div');\n",
              "          docLink.innerHTML = docLinkHtml;\n",
              "          element.appendChild(docLink);\n",
              "        }\n",
              "      </script>\n",
              "    </div>\n",
              "  </div>\n",
              "  "
            ]
          },
          "metadata": {},
          "execution_count": 15
        }
      ]
    },
    {
      "cell_type": "code",
      "source": [
        "\n",
        "countries=[]\n",
        "colors=[]\n",
        "i=0\n",
        "colors.append(\"orange\")\n",
        "while len(countries)!=10:\n",
        "    if df['country_code'][i] not in countries:\n",
        "        colors.append(\"green\")\n",
        "        countries.append(df['country_code'][i])\n",
        "    i+=1"
      ],
      "metadata": {
        "id": "iNBu4SYNSJXV"
      },
      "execution_count": null,
      "outputs": []
    },
    {
      "cell_type": "code",
      "source": [
        "g=nx.Graph()\n",
        "g.add_node(\"Countries\")\n",
        "sizes=[200]\n",
        "colors=[\"green\"]\n",
        "for i in range(len(countries)):\n",
        "    g.add_node(countries[i])\n",
        "    sizes.append(200)\n",
        "    colors.append(\"orange\")\n",
        "edges=[(\"Countries\", i) for i in countries]"
      ],
      "metadata": {
        "id": "0_WEpDeNSK7X"
      },
      "execution_count": null,
      "outputs": []
    },
    {
      "cell_type": "code",
      "source": [
        "medals=[]\n",
        "\n",
        "for i in range(10):\n",
        "    medals.append([0,0,0])\n",
        "\n",
        "for i in range(len(df)):\n",
        "    if df['country_code'][i] in countries:\n",
        "        if df['medal_type'][i]==\"GOLD\":\n",
        "            medals[countries.index(df['country_code'][i])][0]+=1\n",
        "        elif df['medal_type'][i]==\"SILVER\":\n",
        "            medals[countries.index(df['country_code'][i])][1]+=1\n",
        "        elif df['medal_type'][i]==\"BRONZE\":\n",
        "            medals[countries.index(df['country_code'][i])][2]+=1"
      ],
      "metadata": {
        "id": "o2lwkxFSSlX7"
      },
      "execution_count": null,
      "outputs": []
    },
    {
      "cell_type": "code",
      "source": [
        "medals[1][1]=3\n",
        "medals[0][1]=86"
      ],
      "metadata": {
        "id": "Yve_r3BNSoSy"
      },
      "execution_count": null,
      "outputs": []
    },
    {
      "cell_type": "code",
      "source": [
        "for i in range(len(countries)):\n",
        "    g.add_node(medals[i][0])\n",
        "    sizes.append(5*medals[i][0])\n",
        "    edges.append((countries[i], medals[i][0]))\n",
        "    colors.append(\"gold\")\n",
        "    g.add_node(medals[i][1])\n",
        "    sizes.append(5*medals[i][1])\n",
        "    edges.append((countries[i], medals[i][1]))\n",
        "    colors.append(\"silver\")\n",
        "    g.add_node(medals[i][2])\n",
        "    sizes.append(5*medals[i][2])\n",
        "    edges.append((countries[i], medals[i][2]))\n",
        "    colors.append(\"brown\")"
      ],
      "metadata": {
        "id": "5T1B8xx7SqYZ"
      },
      "execution_count": null,
      "outputs": []
    },
    {
      "cell_type": "code",
      "source": [
        "g.add_edges_from(edges)\n",
        "nx.draw(g, node_color=colors, node_size=sizes,  with_labels=True)\n",
        "plt.show()"
      ],
      "metadata": {
        "colab": {
          "base_uri": "https://localhost:8080/",
          "height": 319
        },
        "id": "-GSHuX7fStCG",
        "outputId": "ef0f198b-7aa1-4101-815d-0efefcd7dbea"
      },
      "execution_count": null,
      "outputs": [
        {
          "output_type": "display_data",
          "data": {
            "text/plain": [
              "<Figure size 432x288 with 1 Axes>"
            ],
            "image/png": "[encoded data removed]"
          },
          "metadata": {}
        }
      ]
    }
  ]
}