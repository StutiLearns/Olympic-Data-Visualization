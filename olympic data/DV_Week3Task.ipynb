{
  "nbformat": 4,
  "nbformat_minor": 0,
  "metadata": {
    "colab": {
      "name": "DV_Week3Task.ipynb",
      "provenance": [],
      "collapsed_sections": []
    },
    "kernelspec": {
      "name": "python3",
      "display_name": "Python 3"
    },
    "language_info": {
      "name": "python"
    }
  },
  "cells": [
    {
      "cell_type": "code",
      "execution_count": null,
      "metadata": {
        "id": "8twZDA_ZobVV"
      },
      "outputs": [],
      "source": [
        ""
      ]
    },
    {
      "cell_type": "markdown",
      "source": [
        "**Area Chart**"
      ],
      "metadata": {
        "id": "BOsSt3txowt2"
      }
    },
    {
      "cell_type": "markdown",
      "source": [
        ""
      ],
      "metadata": {
        "id": "gwDPHbVeowJn"
      }
    },
    {
      "cell_type": "code",
      "source": [
        "# library\n",
        "import numpy as np\n",
        "import pandas as pd\n",
        "import matplotlib.pyplot as plt\n",
        "df=pd.read_csv(\"/content/drive/MyDrive/olympic_medals.csv\")\n",
        "df.head()\n",
        "\n"
      ],
      "metadata": {
        "colab": {
          "base_uri": "https://localhost:8080/",
          "height": 357
        },
        "id": "EsxvqvWOo0SC",
        "outputId": "be9fb0c8-8276-4dba-b846-77e2f13ac148"
      },
      "execution_count": null,
      "outputs": [
        {
          "output_type": "execute_result",
          "data": {
            "text/html": [
              "\n",
              "  <div id=\"df-95eaf39b-80f4-4466-89ca-27617878e169\">\n",
              "    <div class=\"colab-df-container\">\n",
              "      <div>\n",
              "<style scoped>\n",
              "    .dataframe tbody tr th:only-of-type {\n",
              "        vertical-align: middle;\n",
              "    }\n",
              "\n",
              "    .dataframe tbody tr th {\n",
              "        vertical-align: top;\n",
              "    }\n",
              "\n",
              "    .dataframe thead th {\n",
              "        text-align: right;\n",
              "    }\n",
              "</style>\n",
              "<table border=\"1\" class=\"dataframe\">\n",
              "  <thead>\n",
              "    <tr style=\"text-align: right;\">\n",
              "      <th></th>\n",
              "      <th>discipline_title</th>\n",
              "      <th>slug_game</th>\n",
              "      <th>event_title</th>\n",
              "      <th>event_gender</th>\n",
              "      <th>medal_type</th>\n",
              "      <th>participant_type</th>\n",
              "      <th>participant_title</th>\n",
              "      <th>athlete_url</th>\n",
              "      <th>athlete_full_name</th>\n",
              "      <th>country_name</th>\n",
              "      <th>country_code</th>\n",
              "      <th>country_3_letter_code</th>\n",
              "    </tr>\n",
              "  </thead>\n",
              "  <tbody>\n",
              "    <tr>\n",
              "      <th>0</th>\n",
              "      <td>Shooting</td>\n",
              "      <td>tokyo-2020</td>\n",
              "      <td>Trap Mixed Team</td>\n",
              "      <td>Mixed</td>\n",
              "      <td>GOLD</td>\n",
              "      <td>GameTeam</td>\n",
              "      <td>Spain</td>\n",
              "      <td>https://olympics.com/en/athletes/fatima-galvez</td>\n",
              "      <td>Fatima GALVEZ</td>\n",
              "      <td>Spain</td>\n",
              "      <td>ES</td>\n",
              "      <td>ESP</td>\n",
              "    </tr>\n",
              "    <tr>\n",
              "      <th>1</th>\n",
              "      <td>Shooting</td>\n",
              "      <td>tokyo-2020</td>\n",
              "      <td>Trap Mixed Team</td>\n",
              "      <td>Mixed</td>\n",
              "      <td>GOLD</td>\n",
              "      <td>GameTeam</td>\n",
              "      <td>Spain</td>\n",
              "      <td>https://olympics.com/en/athletes/alberto-ferna...</td>\n",
              "      <td>Alberto FERNANDEZ</td>\n",
              "      <td>Spain</td>\n",
              "      <td>ES</td>\n",
              "      <td>ESP</td>\n",
              "    </tr>\n",
              "    <tr>\n",
              "      <th>2</th>\n",
              "      <td>Shooting</td>\n",
              "      <td>tokyo-2020</td>\n",
              "      <td>Trap Mixed Team</td>\n",
              "      <td>Mixed</td>\n",
              "      <td>SILVER</td>\n",
              "      <td>GameTeam</td>\n",
              "      <td>San Marino</td>\n",
              "      <td>https://olympics.com/en/athletes/alessandra-pe...</td>\n",
              "      <td>Alessandra PERILLI</td>\n",
              "      <td>San Marino</td>\n",
              "      <td>SM</td>\n",
              "      <td>SMR</td>\n",
              "    </tr>\n",
              "    <tr>\n",
              "      <th>3</th>\n",
              "      <td>Shooting</td>\n",
              "      <td>tokyo-2020</td>\n",
              "      <td>Trap Mixed Team</td>\n",
              "      <td>Mixed</td>\n",
              "      <td>SILVER</td>\n",
              "      <td>GameTeam</td>\n",
              "      <td>San Marino</td>\n",
              "      <td>https://olympics.com/en/athletes/gian-marco-berti</td>\n",
              "      <td>Gian Marco BERTI</td>\n",
              "      <td>San Marino</td>\n",
              "      <td>SM</td>\n",
              "      <td>SMR</td>\n",
              "    </tr>\n",
              "    <tr>\n",
              "      <th>4</th>\n",
              "      <td>Shooting</td>\n",
              "      <td>tokyo-2020</td>\n",
              "      <td>Trap Mixed Team</td>\n",
              "      <td>Mixed</td>\n",
              "      <td>BRONZE</td>\n",
              "      <td>GameTeam</td>\n",
              "      <td>United States of America</td>\n",
              "      <td>https://olympics.com/en/athletes/madelynn-ann-...</td>\n",
              "      <td>Madelynn Ann BERNAU</td>\n",
              "      <td>United States of America</td>\n",
              "      <td>US</td>\n",
              "      <td>USA</td>\n",
              "    </tr>\n",
              "  </tbody>\n",
              "</table>\n",
              "</div>\n",
              "      <button class=\"colab-df-convert\" onclick=\"convertToInteractive('df-95eaf39b-80f4-4466-89ca-27617878e169')\"\n",
              "              title=\"Convert this dataframe to an interactive table.\"\n",
              "              style=\"display:none;\">\n",
              "        \n",
              "  <svg xmlns=\"http://www.w3.org/2000/svg\" height=\"24px\"viewBox=\"0 0 24 24\"\n",
              "       width=\"24px\">\n",
              "    <path d=\"M0 0h24v24H0V0z\" fill=\"none\"/>\n",
              "    <path d=\"M18.56 5.44l.94 2.06.94-2.06 2.06-.94-2.06-.94-.94-2.06-.94 2.06-2.06.94zm-11 1L8.5 8.5l.94-2.06 2.06-.94-2.06-.94L8.5 2.5l-.94 2.06-2.06.94zm10 10l.94 2.06.94-2.06 2.06-.94-2.06-.94-.94-2.06-.94 2.06-2.06.94z\"/><path d=\"M17.41 7.96l-1.37-1.37c-.4-.4-.92-.59-1.43-.59-.52 0-1.04.2-1.43.59L10.3 9.45l-7.72 7.72c-.78.78-.78 2.05 0 2.83L4 21.41c.39.39.9.59 1.41.59.51 0 1.02-.2 1.41-.59l7.78-7.78 2.81-2.81c.8-.78.8-2.07 0-2.86zM5.41 20L4 18.59l7.72-7.72 1.47 1.35L5.41 20z\"/>\n",
              "  </svg>\n",
              "      </button>\n",
              "      \n",
              "  <style>\n",
              "    .colab-df-container {\n",
              "      display:flex;\n",
              "      flex-wrap:wrap;\n",
              "      gap: 12px;\n",
              "    }\n",
              "\n",
              "    .colab-df-convert {\n",
              "      background-color: #E8F0FE;\n",
              "      border: none;\n",
              "      border-radius: 50%;\n",
              "      cursor: pointer;\n",
              "      display: none;\n",
              "      fill: #1967D2;\n",
              "      height: 32px;\n",
              "      padding: 0 0 0 0;\n",
              "      width: 32px;\n",
              "    }\n",
              "\n",
              "    .colab-df-convert:hover {\n",
              "      background-color: #E2EBFA;\n",
              "      box-shadow: 0px 1px 2px rgba(60, 64, 67, 0.3), 0px 1px 3px 1px rgba(60, 64, 67, 0.15);\n",
              "      fill: #174EA6;\n",
              "    }\n",
              "\n",
              "    [theme=dark] .colab-df-convert {\n",
              "      background-color: #3B4455;\n",
              "      fill: #D2E3FC;\n",
              "    }\n",
              "\n",
              "    [theme=dark] .colab-df-convert:hover {\n",
              "      background-color: #434B5C;\n",
              "      box-shadow: 0px 1px 3px 1px rgba(0, 0, 0, 0.15);\n",
              "      filter: drop-shadow(0px 1px 2px rgba(0, 0, 0, 0.3));\n",
              "      fill: #FFFFFF;\n",
              "    }\n",
              "  </style>\n",
              "\n",
              "      <script>\n",
              "        const buttonEl =\n",
              "          document.querySelector('#df-95eaf39b-80f4-4466-89ca-27617878e169 button.colab-df-convert');\n",
              "        buttonEl.style.display =\n",
              "          google.colab.kernel.accessAllowed ? 'block' : 'none';\n",
              "\n",
              "        async function convertToInteractive(key) {\n",
              "          const element = document.querySelector('#df-95eaf39b-80f4-4466-89ca-27617878e169');\n",
              "          const dataTable =\n",
              "            await google.colab.kernel.invokeFunction('convertToInteractive',\n",
              "                                                     [key], {});\n",
              "          if (!dataTable) return;\n",
              "\n",
              "          const docLinkHtml = 'Like what you see? Visit the ' +\n",
              "            '<a target=\"_blank\" href=https://colab.research.google.com/notebooks/data_table.ipynb>data table notebook</a>'\n",
              "            + ' to learn more about interactive tables.';\n",
              "          element.innerHTML = '';\n",
              "          dataTable['output_type'] = 'display_data';\n",
              "          await google.colab.output.renderOutput(dataTable, element);\n",
              "          const docLink = document.createElement('div');\n",
              "          docLink.innerHTML = docLinkHtml;\n",
              "          element.appendChild(docLink);\n",
              "        }\n",
              "      </script>\n",
              "    </div>\n",
              "  </div>\n",
              "  "
            ],
            "text/plain": [
              "  discipline_title   slug_game  ... country_code country_3_letter_code\n",
              "0         Shooting  tokyo-2020  ...           ES                   ESP\n",
              "1         Shooting  tokyo-2020  ...           ES                   ESP\n",
              "2         Shooting  tokyo-2020  ...           SM                   SMR\n",
              "3         Shooting  tokyo-2020  ...           SM                   SMR\n",
              "4         Shooting  tokyo-2020  ...           US                   USA\n",
              "\n",
              "[5 rows x 12 columns]"
            ]
          },
          "metadata": {},
          "execution_count": 4
        }
      ]
    },
    {
      "cell_type": "code",
      "source": [
        "d={'Shooting':0, 'Fencing':0, 'Diving':0, 'Boxing':0,'Football':0}\n",
        "g={'Shooting':0, 'Fencing':0, 'Diving':0, 'Boxing':0,'Football':0}\n",
        "s={'Shooting':0, 'Fencing':0, 'Diving':0, 'Boxing':0,'Football':0}\n",
        "b={'Shooting':0, 'Fencing':0, 'Diving':0, 'Boxing':0,'Football':0}\n"
      ],
      "metadata": {
        "id": "7BgSN0KIs7LQ"
      },
      "execution_count": null,
      "outputs": []
    },
    {
      "cell_type": "code",
      "source": [
        "for i in range(len(df['discipline_title'])):\n",
        "    if(df['discipline_title'][i] in d):\n",
        "        d[df['discipline_title'][i]]+=1"
      ],
      "metadata": {
        "id": "-ejKcIQQvRtX"
      },
      "execution_count": null,
      "outputs": []
    },
    {
      "cell_type": "code",
      "source": [
        "for i in range(len(df['discipline_title'])):\n",
        "        if(df['country_code'][i]=='US' and df['discipline_title'][i] in g):\n",
        "             g[df['discipline_title'][i]]+=1"
      ],
      "metadata": {
        "id": "IBomlb5Rtfle"
      },
      "execution_count": null,
      "outputs": []
    },
    {
      "cell_type": "code",
      "source": [
        "for i in range(len(df['discipline_title'])):\n",
        "        if(df['country_code'][i]=='US' and df['discipline_title'][i] in s):\n",
        "             s[df['discipline_title'][i]]+=1"
      ],
      "metadata": {
        "id": "St7-SRRgvsvh"
      },
      "execution_count": null,
      "outputs": []
    },
    {
      "cell_type": "code",
      "source": [
        "for i in range(len(df['discipline_title'])):\n",
        "        if(df['country_code'][i]=='US' and df['discipline_title'][i] in b):\n",
        "             b[df['discipline_title'][i]]+=1\n",
        "  "
      ],
      "metadata": {
        "id": "RXtpPF3VtpV8"
      },
      "execution_count": null,
      "outputs": []
    },
    {
      "cell_type": "code",
      "source": [
        "data = pd.DataFrame({'Sport':['Shooting', 'Fencing', 'Diving', 'Boxing','Football'],\n",
        "                     'Event_Count': [d['Shooting'], d['Fencing'], d['Diving'], d['Boxing'],d['Football']],\n",
        "                     'Gold':[g['Shooting'], g['Fencing'], g['Diving'], g['Boxing'],g['Football']],\n",
        "                     'Silver':[s['Shooting'], s['Fencing'], s['Diving'], s['Boxing'],s['Football']],\n",
        "                     'Bronze':[b['Shooting'], b['Fencing'], b['Diving'], b['Boxing'],b['Football']]\n",
        "                    })"
      ],
      "metadata": {
        "id": "MZOx5AXqtyGl"
      },
      "execution_count": null,
      "outputs": []
    },
    {
      "cell_type": "code",
      "source": [
        "# Create data\n",
        "x=data['Sport']\n",
        "y1=data['Gold']\n",
        "y2=data['Silver']\n",
        "y3=data['Bronze']\n",
        "\n",
        "# Basic stacked area chart.\n",
        "plt.stackplot(x,y1, y2, y3, labels=['Gold','Silver','Bronze'])\n",
        "plt.legend(loc='upper left')\n",
        "plt.title('Medals won by Spain in 5 Sports from 1896-2020')"
      ],
      "metadata": {
        "colab": {
          "base_uri": "https://localhost:8080/",
          "height": 299
        },
        "id": "zYSwBNTOqc-1",
        "outputId": "e453e0e6-5302-4c17-dfae-67964960189a"
      },
      "execution_count": null,
      "outputs": [
        {
          "output_type": "execute_result",
          "data": {
            "text/plain": [
              "Text(0.5, 1.0, 'Medals won by Spain in 5 Sports from 1896-2020')"
            ]
          },
          "metadata": {},
          "execution_count": 17
        },
        {
          "output_type": "display_data",
          "data": {
            "image/png": "[encoded data removed]",
            "text/plain": [
              "<Figure size 432x288 with 1 Axes>"
            ]
          },
          "metadata": {
            "needs_background": "light"
          }
        }
      ]
    },
    {
      "cell_type": "markdown",
      "source": [
        "# **HeatMap**"
      ],
      "metadata": {
        "id": "yEHHVh9CH-oT"
      }
    },
    {
      "cell_type": "code",
      "source": [
        "from google.colab import drive\n",
        "drive.mount('/content/drive')"
      ],
      "metadata": {
        "colab": {
          "base_uri": "https://localhost:8080/"
        },
        "id": "MAu6jAZ-IN56",
        "outputId": "6f00abe5-0068-4693-8d7e-390c808d6e8f"
      },
      "execution_count": null,
      "outputs": [
        {
          "output_type": "stream",
          "name": "stdout",
          "text": [
            "Drive already mounted at /content/drive; to attempt to forcibly remount, call drive.mount(\"/content/drive\", force_remount=True).\n"
          ]
        }
      ]
    },
    {
      "cell_type": "code",
      "source": [
        "%matplotlib inline\n",
        "import pandas as pd\n",
        "import seaborn as sns\n",
        "import numpy as np\n",
        "import matplotlib.pyplot as plt\n",
        "df=pd.read_csv(\"/content/drive/MyDrive/olympic_medals.csv\")\n",
        "df.head()"
      ],
      "metadata": {
        "colab": {
          "base_uri": "https://localhost:8080/",
          "height": 357
        },
        "id": "taYLxj0eICel",
        "outputId": "fec23f82-e6da-4823-e5f0-48b8d8bde42d"
      },
      "execution_count": null,
      "outputs": [
        {
          "output_type": "execute_result",
          "data": {
            "text/html": [
              "\n",
              "  <div id=\"df-7c96ec5f-e49d-43fc-a713-b172950649eb\">\n",
              "    <div class=\"colab-df-container\">\n",
              "      <div>\n",
              "<style scoped>\n",
              "    .dataframe tbody tr th:only-of-type {\n",
              "        vertical-align: middle;\n",
              "    }\n",
              "\n",
              "    .dataframe tbody tr th {\n",
              "        vertical-align: top;\n",
              "    }\n",
              "\n",
              "    .dataframe thead th {\n",
              "        text-align: right;\n",
              "    }\n",
              "</style>\n",
              "<table border=\"1\" class=\"dataframe\">\n",
              "  <thead>\n",
              "    <tr style=\"text-align: right;\">\n",
              "      <th></th>\n",
              "      <th>discipline_title</th>\n",
              "      <th>slug_game</th>\n",
              "      <th>event_title</th>\n",
              "      <th>event_gender</th>\n",
              "      <th>medal_type</th>\n",
              "      <th>participant_type</th>\n",
              "      <th>participant_title</th>\n",
              "      <th>athlete_url</th>\n",
              "      <th>athlete_full_name</th>\n",
              "      <th>country_name</th>\n",
              "      <th>country_code</th>\n",
              "      <th>country_3_letter_code</th>\n",
              "    </tr>\n",
              "  </thead>\n",
              "  <tbody>\n",
              "    <tr>\n",
              "      <th>0</th>\n",
              "      <td>Shooting</td>\n",
              "      <td>tokyo-2020</td>\n",
              "      <td>Trap Mixed Team</td>\n",
              "      <td>Mixed</td>\n",
              "      <td>GOLD</td>\n",
              "      <td>GameTeam</td>\n",
              "      <td>Spain</td>\n",
              "      <td>https://olympics.com/en/athletes/fatima-galvez</td>\n",
              "      <td>Fatima GALVEZ</td>\n",
              "      <td>Spain</td>\n",
              "      <td>ES</td>\n",
              "      <td>ESP</td>\n",
              "    </tr>\n",
              "    <tr>\n",
              "      <th>1</th>\n",
              "      <td>Shooting</td>\n",
              "      <td>tokyo-2020</td>\n",
              "      <td>Trap Mixed Team</td>\n",
              "      <td>Mixed</td>\n",
              "      <td>GOLD</td>\n",
              "      <td>GameTeam</td>\n",
              "      <td>Spain</td>\n",
              "      <td>https://olympics.com/en/athletes/alberto-ferna...</td>\n",
              "      <td>Alberto FERNANDEZ</td>\n",
              "      <td>Spain</td>\n",
              "      <td>ES</td>\n",
              "      <td>ESP</td>\n",
              "    </tr>\n",
              "    <tr>\n",
              "      <th>2</th>\n",
              "      <td>Shooting</td>\n",
              "      <td>tokyo-2020</td>\n",
              "      <td>Trap Mixed Team</td>\n",
              "      <td>Mixed</td>\n",
              "      <td>SILVER</td>\n",
              "      <td>GameTeam</td>\n",
              "      <td>San Marino</td>\n",
              "      <td>https://olympics.com/en/athletes/alessandra-pe...</td>\n",
              "      <td>Alessandra PERILLI</td>\n",
              "      <td>San Marino</td>\n",
              "      <td>SM</td>\n",
              "      <td>SMR</td>\n",
              "    </tr>\n",
              "    <tr>\n",
              "      <th>3</th>\n",
              "      <td>Shooting</td>\n",
              "      <td>tokyo-2020</td>\n",
              "      <td>Trap Mixed Team</td>\n",
              "      <td>Mixed</td>\n",
              "      <td>SILVER</td>\n",
              "      <td>GameTeam</td>\n",
              "      <td>San Marino</td>\n",
              "      <td>https://olympics.com/en/athletes/gian-marco-berti</td>\n",
              "      <td>Gian Marco BERTI</td>\n",
              "      <td>San Marino</td>\n",
              "      <td>SM</td>\n",
              "      <td>SMR</td>\n",
              "    </tr>\n",
              "    <tr>\n",
              "      <th>4</th>\n",
              "      <td>Shooting</td>\n",
              "      <td>tokyo-2020</td>\n",
              "      <td>Trap Mixed Team</td>\n",
              "      <td>Mixed</td>\n",
              "      <td>BRONZE</td>\n",
              "      <td>GameTeam</td>\n",
              "      <td>United States of America</td>\n",
              "      <td>https://olympics.com/en/athletes/madelynn-ann-...</td>\n",
              "      <td>Madelynn Ann BERNAU</td>\n",
              "      <td>United States of America</td>\n",
              "      <td>US</td>\n",
              "      <td>USA</td>\n",
              "    </tr>\n",
              "  </tbody>\n",
              "</table>\n",
              "</div>\n",
              "      <button class=\"colab-df-convert\" onclick=\"convertToInteractive('df-7c96ec5f-e49d-43fc-a713-b172950649eb')\"\n",
              "              title=\"Convert this dataframe to an interactive table.\"\n",
              "              style=\"display:none;\">\n",
              "        \n",
              "  <svg xmlns=\"http://www.w3.org/2000/svg\" height=\"24px\"viewBox=\"0 0 24 24\"\n",
              "       width=\"24px\">\n",
              "    <path d=\"M0 0h24v24H0V0z\" fill=\"none\"/>\n",
              "    <path d=\"M18.56 5.44l.94 2.06.94-2.06 2.06-.94-2.06-.94-.94-2.06-.94 2.06-2.06.94zm-11 1L8.5 8.5l.94-2.06 2.06-.94-2.06-.94L8.5 2.5l-.94 2.06-2.06.94zm10 10l.94 2.06.94-2.06 2.06-.94-2.06-.94-.94-2.06-.94 2.06-2.06.94z\"/><path d=\"M17.41 7.96l-1.37-1.37c-.4-.4-.92-.59-1.43-.59-.52 0-1.04.2-1.43.59L10.3 9.45l-7.72 7.72c-.78.78-.78 2.05 0 2.83L4 21.41c.39.39.9.59 1.41.59.51 0 1.02-.2 1.41-.59l7.78-7.78 2.81-2.81c.8-.78.8-2.07 0-2.86zM5.41 20L4 18.59l7.72-7.72 1.47 1.35L5.41 20z\"/>\n",
              "  </svg>\n",
              "      </button>\n",
              "      \n",
              "  <style>\n",
              "    .colab-df-container {\n",
              "      display:flex;\n",
              "      flex-wrap:wrap;\n",
              "      gap: 12px;\n",
              "    }\n",
              "\n",
              "    .colab-df-convert {\n",
              "      background-color: #E8F0FE;\n",
              "      border: none;\n",
              "      border-radius: 50%;\n",
              "      cursor: pointer;\n",
              "      display: none;\n",
              "      fill: #1967D2;\n",
              "      height: 32px;\n",
              "      padding: 0 0 0 0;\n",
              "      width: 32px;\n",
              "    }\n",
              "\n",
              "    .colab-df-convert:hover {\n",
              "      background-color: #E2EBFA;\n",
              "      box-shadow: 0px 1px 2px rgba(60, 64, 67, 0.3), 0px 1px 3px 1px rgba(60, 64, 67, 0.15);\n",
              "      fill: #174EA6;\n",
              "    }\n",
              "\n",
              "    [theme=dark] .colab-df-convert {\n",
              "      background-color: #3B4455;\n",
              "      fill: #D2E3FC;\n",
              "    }\n",
              "\n",
              "    [theme=dark] .colab-df-convert:hover {\n",
              "      background-color: #434B5C;\n",
              "      box-shadow: 0px 1px 3px 1px rgba(0, 0, 0, 0.15);\n",
              "      filter: drop-shadow(0px 1px 2px rgba(0, 0, 0, 0.3));\n",
              "      fill: #FFFFFF;\n",
              "    }\n",
              "  </style>\n",
              "\n",
              "      <script>\n",
              "        const buttonEl =\n",
              "          document.querySelector('#df-7c96ec5f-e49d-43fc-a713-b172950649eb button.colab-df-convert');\n",
              "        buttonEl.style.display =\n",
              "          google.colab.kernel.accessAllowed ? 'block' : 'none';\n",
              "\n",
              "        async function convertToInteractive(key) {\n",
              "          const element = document.querySelector('#df-7c96ec5f-e49d-43fc-a713-b172950649eb');\n",
              "          const dataTable =\n",
              "            await google.colab.kernel.invokeFunction('convertToInteractive',\n",
              "                                                     [key], {});\n",
              "          if (!dataTable) return;\n",
              "\n",
              "          const docLinkHtml = 'Like what you see? Visit the ' +\n",
              "            '<a target=\"_blank\" href=https://colab.research.google.com/notebooks/data_table.ipynb>data table notebook</a>'\n",
              "            + ' to learn more about interactive tables.';\n",
              "          element.innerHTML = '';\n",
              "          dataTable['output_type'] = 'display_data';\n",
              "          await google.colab.output.renderOutput(dataTable, element);\n",
              "          const docLink = document.createElement('div');\n",
              "          docLink.innerHTML = docLinkHtml;\n",
              "          element.appendChild(docLink);\n",
              "        }\n",
              "      </script>\n",
              "    </div>\n",
              "  </div>\n",
              "  "
            ],
            "text/plain": [
              "  discipline_title   slug_game  ... country_code country_3_letter_code\n",
              "0         Shooting  tokyo-2020  ...           ES                   ESP\n",
              "1         Shooting  tokyo-2020  ...           ES                   ESP\n",
              "2         Shooting  tokyo-2020  ...           SM                   SMR\n",
              "3         Shooting  tokyo-2020  ...           SM                   SMR\n",
              "4         Shooting  tokyo-2020  ...           US                   USA\n",
              "\n",
              "[5 rows x 12 columns]"
            ]
          },
          "metadata": {},
          "execution_count": 11
        }
      ]
    },
    {
      "cell_type": "code",
      "source": [
        "#initialize list\n",
        "d={'US':0,'ES':0,'CN':0,'FR':0,'IT':0,'AU':0,'MX':0}\n",
        "g={'US':0,'ES':0,'CN':0,'FR':0,'IT':0,'AU':0,'MX':0}\n",
        "s={'US':0,'ES':0,'CN':0,'FR':0,'IT':0,'AU':0,'MX':0}\n",
        "b={'US':0,'ES':0,'CN':0,'FR':0,'IT':0,'AU':0,'MX':0}\n"
      ],
      "metadata": {
        "id": "F8HtHGoiMxjA"
      },
      "execution_count": null,
      "outputs": []
    },
    {
      "cell_type": "code",
      "source": [
        "for i in range(len(df['discipline_title'])):\n",
        "    if(df['discipline_title'][i]=='Wrestling' and df['country_code'][i] in d):\n",
        "        d[df['country_code'][i]]+=1"
      ],
      "metadata": {
        "id": "b4FZn-GdMmxE"
      },
      "execution_count": null,
      "outputs": []
    },
    {
      "cell_type": "code",
      "source": [
        "for i in range(len(df['discipline_title'])):\n",
        "        if(df['discipline_title'][i]=='Wrestling' and df['country_code'][i] in g):\n",
        "             g[df['country_code'][i]]+=1"
      ],
      "metadata": {
        "id": "nrN2kfn2OUaj"
      },
      "execution_count": null,
      "outputs": []
    },
    {
      "cell_type": "code",
      "source": [
        "for i in range(len(df['discipline_title'])):\n",
        "        if(df['discipline_title'][i]=='Wrestling' and df['country_code'][i] in s):\n",
        "             s[df['country_code'][i]]+=1"
      ],
      "metadata": {
        "id": "hYgHHwDwQRJc"
      },
      "execution_count": null,
      "outputs": []
    },
    {
      "cell_type": "code",
      "source": [
        "for i in range(len(df['discipline_title'])):\n",
        "        if(df['discipline_title'][i]=='Wrestling' and df['country_code'][i] in b):\n",
        "             b[df['country_code'][i]]+=1"
      ],
      "metadata": {
        "id": "IZjAzggEQSc2"
      },
      "execution_count": null,
      "outputs": []
    },
    {
      "cell_type": "code",
      "source": [
        "data = pd.DataFrame({'Country':[1, 2, 3, 4,5,6,7],\n",
        "                     'Participation_Count': [d['US'], d['ES'], d['CN'], d['FR'],d['IT'],d['AU'],d['MX']],\n",
        "                     'Gold':[g['US'], g['ES'], g['CN'], g['FR'],g['IT'],g['AU'],g['MX']],\n",
        "                     'Silver':[s['US'], s['ES'], s['CN'], s['FR'],s['IT'],s['AU'],s['MX']],\n",
        "                     'Bronze':[b['US'], b['ES'], b['CN'], b['FR'],b['IT'],b['AU'],b['MX']]\n",
        "                    })"
      ],
      "metadata": {
        "id": "6On2D0qnQhW8"
      },
      "execution_count": null,
      "outputs": []
    },
    {
      "cell_type": "code",
      "source": [
        "plt.figure(figsize=(14,7))"
      ],
      "metadata": {
        "colab": {
          "base_uri": "https://localhost:8080/",
          "height": 54
        },
        "id": "LvDN-MQfIWzO",
        "outputId": "9e1d5a6a-3729-43eb-f179-91527628ee25"
      },
      "execution_count": null,
      "outputs": [
        {
          "output_type": "execute_result",
          "data": {
            "text/plain": [
              "<Figure size 1008x504 with 0 Axes>"
            ]
          },
          "metadata": {},
          "execution_count": 27
        },
        {
          "output_type": "display_data",
          "data": {
            "text/plain": [
              "<Figure size 1008x504 with 0 Axes>"
            ]
          },
          "metadata": {}
        }
      ]
    },
    {
      "cell_type": "code",
      "source": [
        "plt.title(\"Medals won by 7 countries in Wrestling.1:USA,2:SPAIN,3:CHINA,4:FRANCE,5:ITALY,6:AUSTRALIA,7:MEXICO\")\n",
        "sns.heatmap(data=data, annot=True)\n",
        "\n",
        "plt.xlabel(\"Medals\")\n",
        "plt.ylabel(\"Countries\")"
      ],
      "metadata": {
        "colab": {
          "base_uri": "https://localhost:8080/",
          "height": 400
        },
        "id": "fRFOW5ZwK9TL",
        "outputId": "d648aeeb-3e4a-4866-9fc4-8ebeeaecbc2c"
      },
      "execution_count": null,
      "outputs": [
        {
          "output_type": "execute_result",
          "data": {
            "text/plain": [
              "Text(33.0, 0.5, 'Countries')"
            ]
          },
          "metadata": {},
          "execution_count": 33
        },
        {
          "output_type": "display_data",
          "data": {
            "image/png": "[encoded data removed]",
            "text/plain": [
              "<Figure size 432x288 with 2 Axes>"
            ]
          },
          "metadata": {
            "needs_background": "light"
          }
        }
      ]
    }
  ]
}